{
  "nbformat": 4,
  "nbformat_minor": 0,
  "metadata": {
    "colab": {
      "provenance": [],
      "authorship_tag": "ABX9TyPkrtFvaHoYRT/0ab3V+Lnr",
      "include_colab_link": true
    },
    "kernelspec": {
      "name": "python3",
      "display_name": "Python 3"
    },
    "language_info": {
      "name": "python"
    }
  },
  "cells": [
    {
      "cell_type": "markdown",
      "metadata": {
        "id": "view-in-github",
        "colab_type": "text"
      },
      "source": [
        "<a href=\"https://colab.research.google.com/github/shr968/ML-Lab/blob/main/P4.ipynb\" target=\"_parent\"><img src=\"https://colab.research.google.com/assets/colab-badge.svg\" alt=\"Open In Colab\"/></a>"
      ]
    },
    {
      "cell_type": "code",
      "execution_count": 3,
      "metadata": {
        "colab": {
          "base_uri": "https://localhost:8080/"
        },
        "id": "hw1KrVcAxJpr",
        "outputId": "7c4c66db-bb54-4aac-9677-5120a6af5697"
      },
      "outputs": [
        {
          "output_type": "stream",
          "name": "stdout",
          "text": [
            "The input:  [[2 9]\n",
            " [1 5]\n",
            " [3 6]]\n",
            "The predicted output:  [[0.92]\n",
            " [0.86]\n",
            " [0.89]]\n",
            "The calculated output:  [[0.87522405]\n",
            " [0.87243811]\n",
            " [0.87404999]]\n",
            "Test results\n",
            "Input:\n",
            "[[2 7]\n",
            " [1 4]\n",
            " [3 8]]\n",
            "Expected Output:\n",
            "[[0.89]\n",
            " [0.87]\n",
            " [0.9 ]]\n",
            "Predicted Output:\n",
            "[[0.87477546]\n",
            " [0.86876786]\n",
            " [0.87509454]]\n"
          ]
        }
      ],
      "source": [
        "import numpy as np\n",
        "\n",
        "def sig(x):\n",
        "  return 1 / (1 + np.exp(-x))\n",
        "\n",
        "def dsig(x):\n",
        "  return x * (1 - x)\n",
        "\n",
        "X=np.array([[2,9],[1,5],[3,6]])\n",
        "Y=np.array([[92],[86],[89]]) / 100.0\n",
        "\n",
        "weights_h=np.random.randn(2,3)\n",
        "weights_o=np.random.randn(3,1)\n",
        "\n",
        "lr=0.01\n",
        "epochs=5000\n",
        "\n",
        "for _ in range(epochs):\n",
        "  h_ip = X @ weights_h\n",
        "  h_op = sig(h_ip)\n",
        "\n",
        "  o_ip = h_op @ weights_o\n",
        "  output = sig(o_ip)\n",
        "\n",
        "  error = Y - output\n",
        "  delta_o = error * dsig(output)\n",
        "  delta_h = delta_o @ weights_o.T * dsig(h_op)\n",
        "\n",
        "  weights_o += h_op.T @ delta_o * lr\n",
        "  weights_h += X.T @ delta_h * lr\n",
        "\n",
        "\n",
        "print(\"The input: \",X)\n",
        "print(\"The predicted output: \",Y)\n",
        "print(\"The calculated output: \",output)\n",
        "\n",
        "test_X = np.array([[2,7],[1,4],[3,8]])\n",
        "test_Y = np.array([[89],[87],[90]]) / 100.0\n",
        "\n",
        "test_h_op = sig(test_X @ weights_h)\n",
        "test_op = sig(test_h_op @ weights_o)\n",
        "\n",
        "print(\"Test results\")\n",
        "print(f\"Input:\\n{test_X}\")\n",
        "print(f\"Expected Output:\\n{test_Y}\")\n",
        "print(f\"Predicted Output:\\n{test_op}\")"
      ]
    }
  ]
}